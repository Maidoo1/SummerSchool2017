{
 "cells": [
  {
   "cell_type": "markdown",
   "metadata": {},
   "source": [
    "# Задача про пьяницу ЛШ_2017. Мастерская Data Science\n",
    "## Выполнил Мальцев Илья"
   ]
  },
  {
   "cell_type": "markdown",
   "metadata": {},
   "source": [
    "В решении этой задачи я использую вычисленную мной закономерность увеличения шансов на падение.\n",
    "\n",
    "Попробовав вычислить вероятности первых шести шагов на бумажке, я понял следующее.\n",
    "\n",
    "Во-первых, шансы упасть у пьяницы абсолютно одинаковые при n и n+1 шагах, где n - четные числа, начинающиеся с 0.\n",
    "\n",
    "Во-вторых в шансах на падение надо учитывать количество способов шагнуть назад до падения. Я понял, что в моем способе решения эту роль играют числа Каталана.\n",
    "\n",
    "Алгоритм решения заключается в нахождени вероятности упасть на каждых двух шагах и суммировании всех полученных результатов."
   ]
  },
  {
   "cell_type": "code",
   "execution_count": 46,
   "metadata": {},
   "outputs": [
    {
     "name": "stdout",
     "output_type": "stream",
     "text": [
      "Введите количество шагов: 1000\n"
     ]
    }
   ],
   "source": [
    "#Имортируем все нужные нам библиотеки\n",
    "import math\n",
    "import pylab\n",
    "from matplotlib.mlab import frange\n",
    "\n",
    "#Вводим количество шагов\n",
    "all_steps = int(input('Введите количество шагов: '))\n",
    "\n",
    "#Пьяница может упасть только на четный шаг, поэтому за ненадобностью делаем введенное число четным\n",
    "if all_steps % 2 == 1:\n",
    "    all_steps -= 1"
   ]
  },
  {
   "cell_type": "markdown",
   "metadata": {},
   "source": [
    "Функция нахождения числа Каталана. Вероятность падения умножается на количество способов сделать шаг назад. В данном случае, количество способов шагнуть назад - число Каталана."
   ]
  },
  {
   "cell_type": "code",
   "execution_count": null,
   "metadata": {
    "collapsed": true
   },
   "outputs": [],
   "source": [
    "def cathalan(n):\n",
    "    cathalan = math.factorial(2*n)/(math.factorial(n) * math.factorial(n+1))\n",
    "    \n",
    "    return cathalan"
   ]
  },
  {
   "cell_type": "markdown",
   "metadata": {},
   "source": [
    "Сама функция на вычисление вероятности не упасть пьянице с обрыва.\n",
    "\n",
    "Поясню значение некоторых переменных:\n",
    "\n",
    "step_forward, step_back - вероятности сделать шаг вперед и назад\n",
    "\n",
    "forward_coefficient, back_coefficient - количество переменных, участвующих в вычислении вероятности падения\n",
    "\n",
    "chance_of_fall вероятность падения при определенном шаге\n",
    "\n",
    "summ_cof - суммарная вероятность падения\n",
    "\n",
    "При способе нахождения вероятности, который я выбрал, если пьяница делает 0 шагов или 1 шаг, то вероятность падения равна 1.\n",
    "Поэтому для вычисления правильной вероятности выжить (переменная chance_of_alive) вычитаем суммарную вероятность падения из 2."
   ]
  },
  {
   "cell_type": "code",
   "execution_count": 48,
   "metadata": {},
   "outputs": [
    {
     "name": "stdout",
     "output_type": "stream",
     "text": [
      "Шансы на выживание:  0.7500000000000016\n"
     ]
    }
   ],
   "source": [
    "def chance_of_alive(all_steps):\n",
    "    \n",
    "    step_forward = 1/3; step_back = 2/3\n",
    "    forward_coefficient = 1; back_coefficient = 3\n",
    "    chance_of_fall = 0; summ_cof = 0\n",
    "    \n",
    "    #Цикл для нахождения вероятности. step - номер шага\n",
    "    for step in range(0, all_steps+2, 2):\n",
    "        \n",
    "        #С четвертого шага в формулу нахождения вероятности включается шаг назад\n",
    "        if step >= 4:\n",
    "            #Собсна формула на вычисление вероятности падения\n",
    "            chance_of_fall = (step_forward**(step - forward_coefficient) * step_back**(step - back_coefficient)) * cathalan(step/2)\n",
    "            forward_coefficient += 1\n",
    "            back_coefficient += 1\n",
    "        else:\n",
    "            chance_of_fall = step_forward**step * cathalan(step/2)\n",
    "            \n",
    "        summ_cof += chance_of_fall\n",
    "        \n",
    "    #Вероятность не умереть (по крайней мере, от падения с утеса)\n",
    "    chance_of_alive = 2 - summ_cof\n",
    "    \n",
    "    return chance_of_alive\n",
    "\n",
    "print('Шансы на выживание: ', chance_of_alive(all_steps))"
   ]
  },
  {
   "cell_type": "markdown",
   "metadata": {},
   "source": [
    "График, показывающий, насколько велика вероятность выживания пьяницы."
   ]
  },
  {
   "cell_type": "code",
   "execution_count": 49,
   "metadata": {},
   "outputs": [
    {
     "data": {
      "image/png": "[encoded data removed]",
      "text/plain": [
       "<matplotlib.figure.Figure at 0x2a3cedba390>"
      ]
     },
     "metadata": {},
     "output_type": "display_data"
    }
   ],
   "source": [
    "xlist = frange(0, all_steps, 1)\n",
    "ylist = [chance_of_alive(n) for n in xlist]\n",
    "\n",
    "pylab.plot(xlist, ylist)\n",
    "pylab.show()"
   ]
  }
 ],
 "metadata": {
  "kernelspec": {
   "display_name": "Python 3",
   "language": "python",
   "name": "python3"
  },
  "language_info": {
   "codemirror_mode": {
    "name": "ipython",
    "version": 3
   },
   "file_extension": ".py",
   "mimetype": "text/x-python",
   "name": "python",
   "nbconvert_exporter": "python",
   "pygments_lexer": "ipython3",
   "version": "3.6.0"
  }
 },
 "nbformat": 4,
 "nbformat_minor": 2
}
